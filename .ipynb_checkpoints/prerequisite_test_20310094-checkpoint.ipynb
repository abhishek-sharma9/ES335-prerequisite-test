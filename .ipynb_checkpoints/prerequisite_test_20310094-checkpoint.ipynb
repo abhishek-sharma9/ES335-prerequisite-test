{
 "cells": [
  {
   "cell_type": "code",
   "execution_count": 1,
   "id": "03a54228-16b1-4a78-a6b5-818f137b8478",
   "metadata": {},
   "outputs": [],
   "source": [
    "import matplotlib.pyplot as plt\n",
    "%matplotlib inline\n",
    "\n",
    "import numpy as np\n",
    "import scipy as sp\n",
    "import sympy\n",
    "import time\n",
    "import random\n",
    "from jax import grad\n",
    "import jax.numpy as jnp"
   ]
  },
  {
   "cell_type": "markdown",
   "id": "857a438b-a03e-4f8f-ba02-d15a03923850",
   "metadata": {},
   "source": [
    "## 1. How many multiplications and additions do you need to perform a matrix multiplication between a (n, k) and (k, m) matrix? Explain."
   ]
  },
  {
   "cell_type": "markdown",
   "id": "e436860a-71d1-44ad-a330-171602e94824",
   "metadata": {},
   "source": [
    "Let A and B be two matrices of order (n, k) and (k, m), respectively. The elements of the product matrix: $AB = C$ are given by, $$C_{ij} = \\Sigma_{l=1}^k \\; A_{il}\\;B_{lj} \\tag{1}$$\n",
    "\n",
    "There will be $n \\times m$ elements in $C$ and for each element, we need to perform $k$ multiplications and $k-1$ additions.\n",
    "\n",
    "Therefore, total multiplications = $n \\times m \\times k$\n",
    "\n",
    "and total additions = $n \\times m \\times (k-1)$"
   ]
  },
  {
   "cell_type": "markdown",
   "id": "e642e098-842b-4e4d-97ec-56275f6fc8bc",
   "metadata": {},
   "source": [
    "## 2. Write Python code to multiply the above two matrices. Solve using list of lists and then use numpy. Compare the timing of both solutions. Which one is faster? Why?"
   ]
  },
  {
   "cell_type": "markdown",
   "id": "56707688-7d82-43ea-8481-da118279de31",
   "metadata": {},
   "source": [
    "Let matrices A and B be two matrices of order (3, 3) and (3, 2) respectively, $$ A =\n",
    "\\begin{bmatrix}\n",
    "1 & 2 & 3 \\\\\n",
    "4 & 5 & 6 \\\\\n",
    "7 & 8 & 9\n",
    "\\end{bmatrix}\n",
    "$$\n",
    "\n",
    "$$\n",
    "B = \n",
    "\\begin{bmatrix}\n",
    "1 & 2 \\\\\n",
    "4 & 5 \\\\\n",
    "7 & 8\n",
    "\\end{bmatrix}\n",
    "$$\n",
    "\n",
    "Their product C is given by,\n",
    "$$ C =\n",
    "\\begin{bmatrix}\n",
    "1 & 2 & 3 \\\\\n",
    "4 & 5 & 6 \\\\\n",
    "7 & 8 & 9\n",
    "\\end{bmatrix}\n",
    "\\begin{bmatrix}\n",
    "1 & 2 \\\\\n",
    "4 & 5 \\\\\n",
    "7 & 8\n",
    "\\end{bmatrix}\n",
    "$$"
   ]
  },
  {
   "cell_type": "code",
   "execution_count": 2,
   "id": "001eb091-af7f-4665-b7c3-6e247d758265",
   "metadata": {},
   "outputs": [
    {
     "name": "stdout",
     "output_type": "stream",
     "text": [
      "C as obtained using list of lists:\n",
      "[30, 36]\n",
      "[66, 81]\n",
      "[102, 126]\n",
      "Time taken using list of lists: 0.000117 seconds\n",
      "\n",
      "C as obtained using numpy:\n",
      "[[ 30  36]\n",
      " [ 66  81]\n",
      " [102 126]]\n",
      "Time taken using numpy arrays: 0.000085 seconds\n"
     ]
    }
   ],
   "source": [
    "# Using list of lists.\n",
    "A = [[1, 2, 3],\n",
    "     [4, 5, 6],\n",
    "     [7, 8, 9]]\n",
    "\n",
    "B = [[1, 2],\n",
    "     [4, 5],\n",
    "     [7, 8]]\n",
    "\n",
    "start_time = time.time()\n",
    "C = [[0] * len(B[0]) for _ in range(len(A))]\n",
    "\n",
    "for i in range(len(A)):\n",
    "    for j in range(len(B[0])):\n",
    "        C[i][j] = sum(A[i][r] * B[r][j] for r in range(len(A[0])))\n",
    "        \n",
    "end_time = time.time()\n",
    "\n",
    "# Time taken by the list of lists method\n",
    "time_list = end_time - start_time\n",
    "print('C as obtained using list of lists:')\n",
    "for row in C:\n",
    "    print(row)\n",
    "print(f'Time taken using list of lists: {time_list:.6f} seconds\\n')\n",
    "\n",
    "## Using numpy.\n",
    "A_numpy = np.array(A)\n",
    "B_numpy = np.array(B)\n",
    "\n",
    "start_time_numpy = time.time()\n",
    "C_numpy = np.matmul(A_numpy, B_numpy)\n",
    "end_time_numpy = time.time()\n",
    "\n",
    "# Time taken using numpy arrays.\n",
    "time_numpy = end_time_numpy - start_time_numpy\n",
    "\n",
    "print('C as obtained using numpy:')\n",
    "print(C_numpy)\n",
    "print(f'Time taken using numpy arrays: {time_numpy:.6f} seconds')\n"
   ]
  },
  {
   "cell_type": "markdown",
   "id": "a4654733-7f11-49cb-9733-6358ca1a06b3",
   "metadata": {},
   "source": [
    "### Numpy gives solutions faster due to the following reasons:\n",
    "- NumPy uses highly optimized C and Fortran libraries, which are much faster than using for loops.\n",
    "- NumPy operations are vectorized.\n",
    "- NumPy arrays are more memory-efficient than Python lists."
   ]
  },
  {
   "cell_type": "markdown",
   "id": "2c0a521b-4e32-42d9-8d1f-539b8fe7e833",
   "metadata": {},
   "source": [
    "## 3. Finding the highest element in a list requires one pass of the array. Finding the second highest element requires 2 passes of the the array. Using this method, what is the time complexity of finding the median of the array? Can you suggest a better method? Can you implement both these methods in Python and compare against numpy.median routine in terms of time?"
   ]
  },
  {
   "cell_type": "markdown",
   "id": "e79a427e-defa-434c-8acc-7e61af60136f",
   "metadata": {},
   "source": [
    "Finding the highest element in a list of length $n$ requires $n$ comparisons (one pass), therefore, time complexity is $\\mathcal{O}(n)$. Similarly, finding second highest element requires another pass, therefore, time complexity is $\\mathcal{O}(2n)$. To find the median, $\\frac{n}{2}$ passes will be required, therefore, time complexity is: $\\mathcal{O}(\\frac{n^2}{2})$."
   ]
  },
  {
   "cell_type": "markdown",
   "id": "9a0fd44e-11fb-43af-9306-86fee227fb0b",
   "metadata": {},
   "source": [
    "A more efficient method is the Quickselect algorithm, which has time complexity of $\\mathcal{O}(n)$. Quickselect is a selection algorithm to find the k-th smallest element in an unordered list."
   ]
  },
  {
   "cell_type": "code",
   "execution_count": 3,
   "id": "073496c3-acab-4430-b171-07d23d7b8741",
   "metadata": {},
   "outputs": [
    {
     "name": "stdout",
     "output_type": "stream",
     "text": [
      "Median (Repeated Passes): 5041.5, Time taken: 0.010169 seconds\n",
      "Median (Quickselect): 5041.5, Time taken: 0.004419 seconds\n",
      "Median (NumPy): 5041.5, Time taken: 0.000881 seconds\n"
     ]
    }
   ],
   "source": [
    "# Method 1: Repeated Passes (Inefficient Method)\n",
    "def find_median_repeated_passes(arr):\n",
    "    n = len(arr)\n",
    "    for i in range((n + 1) // 2):\n",
    "        max_element = max(arr)\n",
    "        arr.remove(max_element)\n",
    "    if n % 2 == 1:\n",
    "        return max(arr)\n",
    "    else:\n",
    "        second_max_element = max(arr)\n",
    "        return (max_element + second_max_element) / 2\n",
    "\n",
    "# Method 2: Quickselect (Efficient Method)\n",
    "def partition(arr, low, high):\n",
    "    pivot = arr[high]\n",
    "    i = low - 1\n",
    "    for j in range(low, high):\n",
    "        if arr[j] <= pivot:\n",
    "            i += 1\n",
    "            arr[i], arr[j] = arr[j], arr[i]\n",
    "    arr[i + 1], arr[high] = arr[high], arr[i + 1]\n",
    "    return i + 1\n",
    "\n",
    "def quickselect(arr, low, high, k):\n",
    "    if low == high:\n",
    "        return arr[low]\n",
    "    pivot_index = partition(arr, low, high)\n",
    "    if k == pivot_index:\n",
    "        return arr[k]\n",
    "    elif k < pivot_index:\n",
    "        return quickselect(arr, low, pivot_index - 1, k)\n",
    "    else:\n",
    "        return quickselect(arr, pivot_index + 1, high, k)\n",
    "\n",
    "def find_median_quickselect(arr):\n",
    "    n = len(arr)\n",
    "    if n % 2 == 1:\n",
    "        return quickselect(arr, 0, n - 1, n // 2)\n",
    "    else:\n",
    "        left = quickselect(arr, 0, n - 1, n // 2 - 1)\n",
    "        right = quickselect(arr, 0, n - 1, n // 2)\n",
    "        return (left + right) / 2\n",
    "\n",
    "# Test and compare the performance\n",
    "arr = [random.randint(1, 10000) for _ in range(1000)]\n",
    "\n",
    "# Repeated Passes Method\n",
    "arr_copy = arr.copy()\n",
    "start_time = time.time()\n",
    "median_repeated_passes = find_median_repeated_passes(arr_copy)\n",
    "end_time = time.time()\n",
    "time_repeated_passes = end_time - start_time\n",
    "print(f'Median (Repeated Passes): {median_repeated_passes}, Time taken: {time_repeated_passes:.6f} seconds')\n",
    "\n",
    "# Quickselect Method\n",
    "arr_copy = arr.copy()\n",
    "start_time = time.time()\n",
    "median_quickselect = find_median_quickselect(arr_copy)\n",
    "end_time = time.time()\n",
    "time_quickselect = end_time - start_time\n",
    "print(f'Median (Quickselect): {median_quickselect}, Time taken: {time_quickselect:.6f} seconds')\n",
    "\n",
    "# Using numpy.medium\n",
    "arr_copy = arr.copy()\n",
    "start_time = time.time()\n",
    "median_numpy = np.median(arr_copy)\n",
    "end_time = time.time()\n",
    "time_numpy = end_time - start_time\n",
    "print(f'Median (NumPy): {median_numpy}, Time taken: {time_numpy:.6f} seconds')\n"
   ]
  },
  {
   "cell_type": "markdown",
   "id": "d15ada83-fd51-4606-a516-bb3713bab061",
   "metadata": {},
   "source": [
    "## 4.What is the gradient of the following function with respect to x and y? $$f(x, y) = x^2y + y^3 \\sin(x)$$"
   ]
  },
  {
   "cell_type": "markdown",
   "id": "34248c8f-4825-4254-bfe1-940ffc026d6c",
   "metadata": {},
   "source": [
    "Gradient with respect to x: $\\frac{\\partial f}{\\partial x} = 2xy + y^3\\cos(x)$.\n",
    "\n",
    "Gradient with respect to y: $\\frac{\\partial f}{\\partial y} = x^2 + 3y^2\\sin(x)$.\n",
    "\n",
    "We can use finite difference method to calculate the gradient."
   ]
  },
  {
   "cell_type": "code",
   "execution_count": 4,
   "id": "5e290a35-4cfa-4518-8353-070d090d1e85",
   "metadata": {},
   "outputs": [
    {
     "name": "stdout",
     "output_type": "stream",
     "text": [
      "Gradient of f wrt x and y using finite difference method at [7.71320643 0.20751949] = 3.2025049279127416, 59.62146332194607, respectively.\n",
      "Gradient of f wrt x and y using finite difference method at [6.33648235 7.48803883] = 514.159523845592, 49.11214546154952, respectively.\n",
      "Gradient of f wrt x and y using finite difference method at [4.98507012 2.24796646] = 25.47189126289595, 10.251000048810965, respectively.\n",
      "Gradient of f wrt x and y using finite difference method at [1.98062865 7.60530712] = -145.1525122320163, 163.07524219882907, respectively.\n",
      "Gradient of f wrt x and y using finite difference method at [1.69110837 0.88339814] = 2.9050983840761546, 5.1840975956451985, respectively.\n"
     ]
    }
   ],
   "source": [
    "# Define the function f(x, y)\n",
    "def f(x, y):\n",
    "    return x**2*y + y**3*np.sin(x)\n",
    "\n",
    "def finite_difference_gradient(f, x, y, h):\n",
    "    \"\"\"\n",
    "    Calculate the gradient of function f at the point (x, y)\n",
    "    using the finite difference method.\n",
    "    \n",
    "    Parameters:\n",
    "    - f: The function f(x, y) whose gradient is to be calculated.\n",
    "    - x: The x-coordinate.\n",
    "    - y: The y-coordinate.\n",
    "    - h: A small step size for the finite difference approximation.\n",
    "    \n",
    "    Returns:\n",
    "    - grad_x: The partial derivative of f with respect to x.\n",
    "    - grad_y: The partial derivative of f with respect to y.\n",
    "    \"\"\"\n",
    "    # Partial derivative with respect to x\n",
    "    grad_x = (f(x + h, y) - f(x, y)) / h\n",
    "    \n",
    "    # Partial derivative with respect to y\n",
    "    grad_y = (f(x, y + h) - f(x, y)) / h\n",
    "    \n",
    "    return grad_x, grad_y\n",
    "\n",
    "## random points in (x, y) coordinates to calculate gradient.\n",
    "np.random.seed(10)\n",
    "points_xy = 10*np.random.rand(5, 2)\n",
    "\n",
    "## Array to store the gradient values.\n",
    "grad_fd = np.zeros(points_xy.shape)\n",
    "\n",
    "for idx, point in enumerate(points_xy):\n",
    "    grad_fd[idx] = finite_difference_gradient(f, point[0], point[1], h=1e-10)\n",
    "    \n",
    "count = 0\n",
    "while count < len(points_xy):\n",
    "    print(f'Gradient of f wrt x and y using finite difference method at {points_xy[count]} = {grad_fd[count][0]}, {grad_fd[count][1]}, respectively.')\n",
    "    count += 1"
   ]
  },
  {
   "cell_type": "markdown",
   "id": "2098d661-4825-4d33-bba5-d0aaf4cfc18f",
   "metadata": {},
   "source": [
    "## 5. Use JAX to confirm the gradient evaluated by your method matches the analytical solution corresponding to a few random values of x and y."
   ]
  },
  {
   "cell_type": "code",
   "execution_count": 5,
   "id": "abfd2e9c-d806-4a50-abe3-3f801e8a70f1",
   "metadata": {},
   "outputs": [
    {
     "name": "stdout",
     "output_type": "stream",
     "text": [
      "Gradient of f wrt x and y using JAX at [7.71320643 0.20751949] = 3.2025351524353027, 59.62146759033203, respectively.\n",
      "Gradient of f wrt x and y using JAX at [6.33648235 7.48803883] = 514.1592407226562, 49.11200714111328, respectively.\n",
      "Gradient of f wrt x and y using JAX at [4.98507012 2.24796646] = 25.471893310546875, 10.250993728637695, respectively.\n",
      "Gradient of f wrt x and y using JAX at [1.98062865 7.60530712] = -145.1525115966797, 163.07521057128906, respectively.\n",
      "Gradient of f wrt x and y using JAX at [1.69110837 0.88339814] = 2.9051010608673096, 5.184100151062012, respectively.\n"
     ]
    }
   ],
   "source": [
    "# Define the function f(x, y)\n",
    "def f(x, y):\n",
    "    return x**2*y + y**3*jnp.sin(x)\n",
    "\n",
    "# Gradient with respect to x\n",
    "grad_f_x = grad(f, argnums=0)\n",
    "\n",
    "# Gradient with respect to y\n",
    "grad_f_y = grad(f, argnums=1)\n",
    "\n",
    "# Evaluate the gradients\n",
    "grad_f_x_val = np.zeros(len(points_xy))\n",
    "grad_f_y_val = np.zeros(len(points_xy))\n",
    "\n",
    "for idx, point in enumerate(points_xy):\n",
    "    grad_f_x_val[idx] = grad_f_x(point[0], point[1])\n",
    "    grad_f_y_val[idx] = grad_f_y(point[0], point[1])\n",
    "\n",
    "count = 0\n",
    "while count < len(points_xy):\n",
    "    print(f'Gradient of f wrt x and y using JAX at {points_xy[count]} = {grad_f_x_val[count]}, {grad_f_y_val[count]}, respectively.')\n",
    "    count += 1"
   ]
  },
  {
   "cell_type": "markdown",
   "id": "a2d8e340-ca9c-436a-a5bc-180e0fdf02bf",
   "metadata": {},
   "source": [
    "## 6. Use sympy to confirm that you obtain the same gradient analytically."
   ]
  },
  {
   "cell_type": "code",
   "execution_count": 6,
   "id": "285849f1-a406-463f-93cc-58b64e8cb6af",
   "metadata": {},
   "outputs": [
    {
     "name": "stdout",
     "output_type": "stream",
     "text": [
      "Gradient of f wrt x: 2*x*y + y**3*cos(x)\n",
      "Gradient of f wrt y: x**2 + 3*y**2*sin(x)\n"
     ]
    }
   ],
   "source": [
    "x, y = sympy.symbols('x y')\n",
    "\n",
    "f = x**2*y + y**3*sympy.sin(x)\n",
    "\n",
    "grad_f_x_sympy = sympy.diff(f, x)\n",
    "grad_f_y_sympy = sympy.diff(f, y)\n",
    "\n",
    "print(f'Gradient of f wrt x: {grad_f_x_sympy}')\n",
    "print(f'Gradient of f wrt y: {grad_f_y_sympy}')"
   ]
  },
  {
   "cell_type": "code",
   "execution_count": 7,
   "id": "8b4e3167-6f94-475a-973b-5c05db704a2c",
   "metadata": {},
   "outputs": [
    {
     "name": "stdout",
     "output_type": "stream",
     "text": [
      "Gradient of f wrt x and y using sympy at [7.71320643 0.20751949] = 3.202535298931603, 59.62146845484006, respectively.\n",
      "Gradient of f wrt x and y using sympy at [6.33648235 7.48803883] = 514.159240462964, 49.111976215082855, respectively.\n",
      "Gradient of f wrt x and y using sympy at [4.98507012 2.24796646] = 25.471890983779957, 10.250994090884868, respectively.\n",
      "Gradient of f wrt x and y using sympy at [1.98062865 7.60530712] = -145.15252380191743, 163.075206835692, respectively.\n",
      "Gradient of f wrt x and y using sympy at [1.69110837 0.88339814] = 2.9051011607014603, 5.184100512175995, respectively.\n"
     ]
    }
   ],
   "source": [
    "# Gradients obtained using sympy.\n",
    "def grad_f_wrt_x(x, y):\n",
    "    return 2*x*y + y**3*np.cos(x)\n",
    "\n",
    "def grad_f_wrt_y(x, y):\n",
    "    return x**2 + 3*y**2*np.sin(x)\n",
    "\n",
    "# Evaluate the gradients at points in `points_xy`.\n",
    "grad_f_x_val_sympy = np.zeros(len(points_xy))\n",
    "grad_f_y_val_sympy = np.zeros(len(points_xy))\n",
    "\n",
    "for idx, point in enumerate(points_xy):\n",
    "    grad_f_x_val_sympy[idx] = grad_f_wrt_x(point[0], point[1])\n",
    "    grad_f_y_val_sympy[idx] = grad_f_wrt_y(point[0], point[1])\n",
    "\n",
    "count = 0\n",
    "while count < len(points_xy):\n",
    "    print(f'Gradient of f wrt x and y using sympy at {points_xy[count]} = {grad_f_x_val_sympy[count]}, {grad_f_y_val_sympy[count]}, respectively.')\n",
    "    count += 1"
   ]
  },
  {
   "cell_type": "markdown",
   "id": "97385edb-6885-4a0c-88a4-6bcd37335b4c",
   "metadata": {},
   "source": [
    "## 7. Create a Python nested dictionary to represent hierarchical information. We want to store record of students and their marks."
   ]
  },
  {
   "cell_type": "code",
   "execution_count": 8,
   "id": "ee523a85-8ef5-48ef-b793-e73a66a2528f",
   "metadata": {},
   "outputs": [
    {
     "data": {
      "text/plain": [
       "{'2022': {'Branch': {'1': {'Roll Number': 223101,\n",
       "    'Name': 'A',\n",
       "    'Marks': {'Maths': 100, 'English': 70, 'Science': 80}},\n",
       "   '2': {'Roll Number': 223102,\n",
       "    'Name': 'B',\n",
       "    'Marks': {'Maths': 80, 'English': 70, 'Science': 100}}}},\n",
       " '2023': {'Branch': {'1': {'Roll Number': 233101,\n",
       "    'Name': 'C',\n",
       "    'Marks': {'Maths': 100, 'English': 80, 'Science': 70}},\n",
       "   '2': {'Roll Number': 233102,\n",
       "    'Name': 'D',\n",
       "    'Marks': {'Maths': 80, 'English': 100, 'Science': 70}}}},\n",
       " '2024': {'Branch': {'1': {'Roll Number': 243101,\n",
       "    'Name': 'E',\n",
       "    'Marks': {'Maths': 100, 'English': 70, 'Science': 80}},\n",
       "   '2': {'Roll Number': 243102,\n",
       "    'Name': 'F',\n",
       "    'Marks': {'Maths': 80, 'English': 100, 'Science': 70}}}},\n",
       " '2025': {'Branch': {'1': {'Roll Number': 253101,\n",
       "    'Name': 'G',\n",
       "    'Marks': {'Maths': 100, 'English': 70, 'Science': 80}},\n",
       "   '2': {'Roll Number': 253102,\n",
       "    'Name': 'H',\n",
       "    'Marks': {'Maths': 80, 'English': 70, 'Science': 100}}}}}"
      ]
     },
     "execution_count": 8,
     "metadata": {},
     "output_type": "execute_result"
    }
   ],
   "source": [
    "student_data = {\n",
    "    '2022': {\n",
    "        'Branch' : {\n",
    "            '1' : {\n",
    "                'Roll Number' : 223101, 'Name' : 'A', 'Marks' : {\n",
    "                    'Maths' : 100, 'English' : 70, 'Science' : 80\n",
    "                }\n",
    "            },\n",
    "            \n",
    "            '2' : {\n",
    "                'Roll Number' : 223102, 'Name' : 'B', 'Marks' : {\n",
    "                    'Maths' : 80, 'English' : 70, 'Science' : 100\n",
    "                }\n",
    "            }\n",
    "        }\n",
    "    },\n",
    "    \n",
    "    '2023': {\n",
    "        'Branch' : {\n",
    "            '1' : {\n",
    "                'Roll Number' : 233101, 'Name' : 'C', 'Marks' : {\n",
    "                    'Maths' : 100, 'English' : 80, 'Science' : 70\n",
    "                }\n",
    "            },\n",
    "            \n",
    "            '2' : {\n",
    "                'Roll Number' : 233102, 'Name' : 'D', 'Marks' : {\n",
    "                    'Maths' : 80, 'English' : 100, 'Science' : 70\n",
    "                }\n",
    "            }\n",
    "        }\n",
    "    },\n",
    "    \n",
    "    '2024': {\n",
    "        'Branch' : {\n",
    "            '1' : {\n",
    "                'Roll Number' : 243101, 'Name' : 'E', 'Marks' : {\n",
    "                    'Maths' : 100, 'English' : 70, 'Science' : 80\n",
    "                }\n",
    "            },\n",
    "            \n",
    "            '2' : {\n",
    "                'Roll Number' : 243102, 'Name' : 'F', 'Marks' : {\n",
    "                    'Maths' : 80, 'English' : 100, 'Science' : 70\n",
    "                }\n",
    "            }\n",
    "        }\n",
    "    },\n",
    "    \n",
    "    '2025': {\n",
    "        'Branch' : {\n",
    "            '1' : {\n",
    "                'Roll Number' : 253101, 'Name' : 'G', 'Marks' : {\n",
    "                    'Maths' : 100, 'English' : 70, 'Science' : 80\n",
    "                }\n",
    "            },\n",
    "            \n",
    "            '2' : {\n",
    "                'Roll Number' : 253102, 'Name' : 'H', 'Marks' : {\n",
    "                    'Maths' : 80, 'English' : 70, 'Science' : 100\n",
    "                }\n",
    "            }\n",
    "        }\n",
    "    }\n",
    "}\n",
    "\n",
    "student_data"
   ]
  },
  {
   "cell_type": "markdown",
   "id": "ee806d2e-bdf8-4ce3-9da5-d5d3e56880da",
   "metadata": {},
   "source": [
    "## 8. Store the same information using Python classes. We have an overall database which is a list of year objects. Each year contains a list of branches. Each branch contains a list of students. Each student has some properties like name, roll number and has marks in some subjects."
   ]
  },
  {
   "cell_type": "code",
   "execution_count": 9,
   "id": "6476f8b6-a319-4bed-8c6f-75cb2b1e673c",
   "metadata": {},
   "outputs": [
    {
     "name": "stdout",
     "output_type": "stream",
     "text": [
      "Year(year=2022, branches=[Branch(name=Branch 1, students=[Student(name=A, roll_number=223101, marks={'Maths': 100, 'English': 70, 'Science': 80})]), Branch(name=Branch 2, students=[Student(name=B, roll_number=223102, marks={'Maths': 80, 'English': 70, 'Science': 100})])])\n",
      "  Branch(name=Branch 1, students=[Student(name=A, roll_number=223101, marks={'Maths': 100, 'English': 70, 'Science': 80})])\n",
      "    Student(name=A, roll_number=223101, marks={'Maths': 100, 'English': 70, 'Science': 80})\n",
      "  Branch(name=Branch 2, students=[Student(name=B, roll_number=223102, marks={'Maths': 80, 'English': 70, 'Science': 100})])\n",
      "    Student(name=B, roll_number=223102, marks={'Maths': 80, 'English': 70, 'Science': 100})\n",
      "Year(year=2023, branches=[Branch(name=Branch 1, students=[Student(name=C, roll_number=233101, marks={'Maths': 100, 'English': 80, 'Science': 70})]), Branch(name=Branch 2, students=[Student(name=D, roll_number=233102, marks={'Maths': 80, 'English': 100, 'Science': 70})])])\n",
      "  Branch(name=Branch 1, students=[Student(name=C, roll_number=233101, marks={'Maths': 100, 'English': 80, 'Science': 70})])\n",
      "    Student(name=C, roll_number=233101, marks={'Maths': 100, 'English': 80, 'Science': 70})\n",
      "  Branch(name=Branch 2, students=[Student(name=D, roll_number=233102, marks={'Maths': 80, 'English': 100, 'Science': 70})])\n",
      "    Student(name=D, roll_number=233102, marks={'Maths': 80, 'English': 100, 'Science': 70})\n",
      "Year(year=2024, branches=[Branch(name=Branch 1, students=[Student(name=E, roll_number=243101, marks={'Maths': 100, 'English': 70, 'Science': 80})]), Branch(name=Branch 2, students=[Student(name=F, roll_number=243102, marks={'Maths': 80, 'English': 100, 'Science': 70})])])\n",
      "  Branch(name=Branch 1, students=[Student(name=E, roll_number=243101, marks={'Maths': 100, 'English': 70, 'Science': 80})])\n",
      "    Student(name=E, roll_number=243101, marks={'Maths': 100, 'English': 70, 'Science': 80})\n",
      "  Branch(name=Branch 2, students=[Student(name=F, roll_number=243102, marks={'Maths': 80, 'English': 100, 'Science': 70})])\n",
      "    Student(name=F, roll_number=243102, marks={'Maths': 80, 'English': 100, 'Science': 70})\n",
      "Year(year=2025, branches=[Branch(name=Branch 1, students=[Student(name=G, roll_number=243101, marks={'Maths': 100, 'English': 70, 'Science': 80})]), Branch(name=Branch 2, students=[Student(name=H, roll_number=243102, marks={'Maths': 80, 'English': 70, 'Science': 100})])])\n",
      "  Branch(name=Branch 1, students=[Student(name=G, roll_number=243101, marks={'Maths': 100, 'English': 70, 'Science': 80})])\n",
      "    Student(name=G, roll_number=243101, marks={'Maths': 100, 'English': 70, 'Science': 80})\n",
      "  Branch(name=Branch 2, students=[Student(name=H, roll_number=243102, marks={'Maths': 80, 'English': 70, 'Science': 100})])\n",
      "    Student(name=H, roll_number=243102, marks={'Maths': 80, 'English': 70, 'Science': 100})\n"
     ]
    }
   ],
   "source": [
    "class Student:\n",
    "    def __init__(self, name, roll_number, marks):\n",
    "        self.name = name\n",
    "        self.roll_number = roll_number\n",
    "        self.marks = marks  # marks is a dictionary with subject names as keys and marks as values\n",
    "\n",
    "    def __repr__(self):\n",
    "        return f'Student(name={self.name}, roll_number={self.roll_number}, marks={self.marks})'\n",
    "\n",
    "\n",
    "class Branch:\n",
    "    def __init__(self, name, students):\n",
    "        self.name = name\n",
    "        self.students = students  # students is a list of Student objects\n",
    "\n",
    "    def __repr__(self):\n",
    "        return f'Branch(name={self.name}, students={self.students})'\n",
    "\n",
    "\n",
    "class Year:\n",
    "    def __init__(self, year, branches):\n",
    "        self.year = year\n",
    "        self.branches = branches  # branches is a list of Branch objects\n",
    "\n",
    "    def __repr__(self):\n",
    "        return f'Year(year={self.year}, branches={self.branches})'\n",
    "\n",
    "# Store data...\n",
    "# Create students\n",
    "students_2022_branch1 = [\n",
    "    Student(name='A', roll_number=223101, marks={'Maths': 100, 'English' : 70, 'Science': 80}),\n",
    "]\n",
    "\n",
    "students_2022_branch2 = [\n",
    "    Student(name='B', roll_number=223102, marks={'Maths': 80, 'English' : 70, 'Science': 100}),\n",
    "]\n",
    "\n",
    "students_2023_branch1 = [\n",
    "    Student(name='C', roll_number=233101, marks={'Maths': 100, 'English' : 80, 'Science': 70}),\n",
    "]\n",
    "\n",
    "students_2023_branch2 = [\n",
    "    Student(name='D', roll_number=233102, marks={'Maths': 80, 'English' : 100, 'Science': 70}),\n",
    "]\n",
    "\n",
    "students_2024_branch1 = [\n",
    "    Student(name='E', roll_number=243101, marks={'Maths': 100, 'English' : 70, 'Science': 80}),\n",
    "]\n",
    "\n",
    "students_2024_branch2 = [\n",
    "    Student(name='F', roll_number=243102, marks={'Maths': 80, 'English' : 100, 'Science': 70}),\n",
    "]\n",
    "\n",
    "students_2025_branch1 = [\n",
    "    Student(name='G', roll_number=243101, marks={'Maths': 100, 'English' : 70, 'Science': 80}),\n",
    "]\n",
    "\n",
    "students_2025_branch2 = [\n",
    "    Student(name='H', roll_number=243102, marks={'Maths': 80, 'English' : 70, 'Science': 100}),\n",
    "]\n",
    "\n",
    "# Create branches\n",
    "branch_2022_1 = Branch(name=\"Branch 1\", students=students_2022_branch1)\n",
    "branch_2022_2 = Branch(name=\"Branch 2\", students=students_2022_branch2)\n",
    "\n",
    "branch_2023_1 = Branch(name=\"Branch 1\", students=students_2023_branch1)\n",
    "branch_2023_2 = Branch(name=\"Branch 2\", students=students_2023_branch2)\n",
    "\n",
    "branch_2024_1 = Branch(name=\"Branch 1\", students=students_2024_branch1)\n",
    "branch_2024_2 = Branch(name=\"Branch 2\", students=students_2024_branch2)\n",
    "\n",
    "branch_2025_1 = Branch(name=\"Branch 1\", students=students_2025_branch1)\n",
    "branch_2025_2 = Branch(name=\"Branch 2\", students=students_2025_branch2)\n",
    "\n",
    "# Create years\n",
    "year_2022 = Year(year=2022, branches=[branch_2022_1, branch_2022_2])\n",
    "year_2023 = Year(year=2023, branches=[branch_2023_1, branch_2023_2])\n",
    "year_2024 = Year(year=2024, branches=[branch_2024_1, branch_2024_2])\n",
    "year_2025 = Year(year=2025, branches=[branch_2025_1, branch_2025_2])\n",
    "\n",
    "# Database of years\n",
    "database = [year_2022, year_2023, year_2024, year_2025]\n",
    "\n",
    "# Display the data.\n",
    "for year in database:\n",
    "    print(year)\n",
    "    for branch in year.branches:\n",
    "        print(f'  {branch}')\n",
    "        for student in branch.students:\n",
    "            print(f'    {student}')"
   ]
  },
  {
   "cell_type": "markdown",
   "id": "454f7c1b-0c06-446b-a069-a8b9f0427cf7",
   "metadata": {},
   "source": [
    "## 9. Using matplotlib plot the following functions on the domain: x = 0.5 to 100.0 in steps of 0.5."
   ]
  },
  {
   "cell_type": "code",
   "execution_count": 10,
   "id": "81d25523-5b90-4a2a-b705-a61bfd806586",
   "metadata": {},
   "outputs": [],
   "source": [
    "def f2(x):\n",
    "    return x**2\n",
    "\n",
    "def f3(x):\n",
    "    return x**3/100\n",
    "\n",
    "def f4(x):\n",
    "    return np.sin(x)\n",
    "\n",
    "def f5(x):\n",
    "    return np.sin(x)/x\n",
    "\n",
    "def f6(x):\n",
    "    return np.log(x)\n",
    "\n",
    "def f7(x):\n",
    "    return np.exp(x)\n",
    "\n",
    "# input-domain\n",
    "x = np.arange(0.5, 100, 0.5)\n",
    "\n",
    "# Evaluate functions.\n",
    "y1 = x\n",
    "y2 = f2(x)\n",
    "y3 = f3(x)\n",
    "y4 = f4(x)\n",
    "y5 = f5(x)\n",
    "y6 = f6(x)\n",
    "y7 = f7(x)\n"
   ]
  },
  {
   "cell_type": "code",
   "execution_count": 11,
   "id": "76e1c13b-b9df-4c4b-b079-e90441e5da95",
   "metadata": {},
   "outputs": [
    {
     "data": {
      "image/png": "[encoded data removed]",
      "text/plain": [
       "<Figure size 2300x700 with 7 Axes>"
      ]
     },
     "metadata": {},
     "output_type": "display_data"
    }
   ],
   "source": [
    "fig, axes = plt.subplots(2, 4, figsize = (23, 7))\n",
    "ax1, ax2, ax3, ax4 = axes[0, 0], axes[0, 1], axes[0, 2], axes[0, 3]\n",
    "ax5, ax6, ax7, ax8 = axes[1, 0], axes[1, 1], axes[1, 2], axes[1, 3]\n",
    "fig.delaxes(axes[1, 3])\n",
    "\n",
    "ax1.plot(x, y1, c = 'b', label = r'$y = x$')\n",
    "ax1.set_xlabel('x', fontsize = 12)\n",
    "ax1.set_ylabel('f(x)')\n",
    "ax1.legend()\n",
    "\n",
    "ax2.plot(x, y2, c = 'b', label = r'$y = x^2$')\n",
    "ax2.set_xlabel('x', fontsize = 12)\n",
    "ax2.set_ylabel('f(x)')\n",
    "ax2.legend()\n",
    "\n",
    "ax3.plot(x, y3, c = 'b', label = r'$y = \\frac{x^3}{100}$')\n",
    "ax3.set_xlabel('x', fontsize = 12)\n",
    "ax3.set_ylabel('f(x)')\n",
    "ax3.legend()\n",
    "\n",
    "ax4.plot(x, y4, c = 'b', label = r'$y = \\sin(x)$')\n",
    "ax4.set_xlabel('x', fontsize = 12)\n",
    "ax4.set_ylabel('f(x)')\n",
    "ax4.legend()\n",
    "\n",
    "ax5.plot(x, y5, c = 'b', label = r'$y = \\frac{\\sin(x)}{x}$')\n",
    "ax5.set_xlabel('x', fontsize = 12)\n",
    "ax5.set_ylabel('f(x)')\n",
    "ax5.legend()\n",
    "\n",
    "ax6.plot(x, y6, c = 'b', label = r'$y = \\log(x)$')\n",
    "ax6.set_xlabel('x', fontsize = 12)\n",
    "ax6.set_ylabel('f(x)')\n",
    "ax6.legend()\n",
    "\n",
    "ax7.plot(x, y7, c = 'b', label = r'$y = \\exp(x)$')\n",
    "ax7.set_xlabel('x', fontsize = 12)\n",
    "ax7.set_ylabel('f(x)')\n",
    "ax7.legend()\n",
    "\n",
    "plt.show()"
   ]
  },
  {
   "cell_type": "code",
   "execution_count": null,
   "id": "31f0a18c-fe5b-4b06-bd62-7149468d3d6c",
   "metadata": {},
   "outputs": [],
   "source": []
  }
 ],
 "metadata": {
  "kernelspec": {
   "display_name": "ML-env",
   "language": "python",
   "name": "ml-env"
  },
  "language_info": {
   "codemirror_mode": {
    "name": "ipython",
    "version": 3
   },
   "file_extension": ".py",
   "mimetype": "text/x-python",
   "name": "python",
   "nbconvert_exporter": "python",
   "pygments_lexer": "ipython3",
   "version": "3.9.19"
  }
 },
 "nbformat": 4,
 "nbformat_minor": 5
}
